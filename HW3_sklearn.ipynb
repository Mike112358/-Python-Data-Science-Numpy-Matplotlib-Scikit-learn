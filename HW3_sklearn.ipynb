{
 "cells": [
  {
   "cell_type": "markdown",
   "id": "be34e333",
   "metadata": {},
   "source": [
    "## Задание 1"
   ]
  },
  {
   "cell_type": "code",
   "execution_count": 239,
   "id": "a9bf692d",
   "metadata": {},
   "outputs": [],
   "source": [
    "import pandas as pd\n",
    "import numpy as np"
   ]
  },
  {
   "cell_type": "code",
   "execution_count": 240,
   "id": "01c8dcaf",
   "metadata": {},
   "outputs": [],
   "source": [
    "from sklearn.datasets import load_boston"
   ]
  },
  {
   "cell_type": "code",
   "execution_count": 241,
   "id": "e4b02d6c",
   "metadata": {},
   "outputs": [],
   "source": [
    "boston = load_boston()"
   ]
  },
  {
   "cell_type": "code",
   "execution_count": 242,
   "id": "4b56b51f",
   "metadata": {},
   "outputs": [
    {
     "data": {
      "text/plain": [
       "dict_keys(['data', 'target', 'feature_names', 'DESCR', 'filename'])"
      ]
     },
     "execution_count": 242,
     "metadata": {},
     "output_type": "execute_result"
    }
   ],
   "source": [
    "boston.keys()"
   ]
  },
  {
   "cell_type": "code",
   "execution_count": 243,
   "id": "c80c746b",
   "metadata": {},
   "outputs": [],
   "source": [
    "data = boston['data']\n",
    "feature_names = boston['feature_names']"
   ]
  },
  {
   "cell_type": "code",
   "execution_count": 244,
   "id": "5e4a1f80",
   "metadata": {},
   "outputs": [
    {
     "name": "stdout",
     "output_type": "stream",
     "text": [
      ".. _boston_dataset:\n",
      "\n",
      "Boston house prices dataset\n",
      "---------------------------\n",
      "\n",
      "**Data Set Characteristics:**  \n",
      "\n",
      "    :Number of Instances: 506 \n",
      "\n",
      "    :Number of Attributes: 13 numeric/categorical predictive. Median Value (attribute 14) is usually the target.\n",
      "\n",
      "    :Attribute Information (in order):\n",
      "        - CRIM     per capita crime rate by town\n",
      "        - ZN       proportion of residential land zoned for lots over 25,000 sq.ft.\n",
      "        - INDUS    proportion of non-retail business acres per town\n",
      "        - CHAS     Charles River dummy variable (= 1 if tract bounds river; 0 otherwise)\n",
      "        - NOX      nitric oxides concentration (parts per 10 million)\n",
      "        - RM       average number of rooms per dwelling\n",
      "        - AGE      proportion of owner-occupied units built prior to 1940\n",
      "        - DIS      weighted distances to five Boston employment centres\n",
      "        - RAD      index of accessibility to radial highways\n",
      "        - TAX      full-value property-tax rate per $10,000\n",
      "        - PTRATIO  pupil-teacher ratio by town\n",
      "        - B        1000(Bk - 0.63)^2 where Bk is the proportion of blacks by town\n",
      "        - LSTAT    % lower status of the population\n",
      "        - MEDV     Median value of owner-occupied homes in $1000's\n",
      "\n",
      "    :Missing Attribute Values: None\n",
      "\n",
      "    :Creator: Harrison, D. and Rubinfeld, D.L.\n",
      "\n",
      "This is a copy of UCI ML housing dataset.\n",
      "https://archive.ics.uci.edu/ml/machine-learning-databases/housing/\n",
      "\n",
      "\n",
      "This dataset was taken from the StatLib library which is maintained at Carnegie Mellon University.\n",
      "\n",
      "The Boston house-price data of Harrison, D. and Rubinfeld, D.L. 'Hedonic\n",
      "prices and the demand for clean air', J. Environ. Economics & Management,\n",
      "vol.5, 81-102, 1978.   Used in Belsley, Kuh & Welsch, 'Regression diagnostics\n",
      "...', Wiley, 1980.   N.B. Various transformations are used in the table on\n",
      "pages 244-261 of the latter.\n",
      "\n",
      "The Boston house-price data has been used in many machine learning papers that address regression\n",
      "problems.   \n",
      "     \n",
      ".. topic:: References\n",
      "\n",
      "   - Belsley, Kuh & Welsch, 'Regression diagnostics: Identifying Influential Data and Sources of Collinearity', Wiley, 1980. 244-261.\n",
      "   - Quinlan,R. (1993). Combining Instance-Based and Model-Based Learning. In Proceedings on the Tenth International Conference of Machine Learning, 236-243, University of Massachusetts, Amherst. Morgan Kaufmann.\n",
      "\n"
     ]
    }
   ],
   "source": [
    "print(boston['DESCR'])"
   ]
  },
  {
   "cell_type": "code",
   "execution_count": 245,
   "id": "b88d2645",
   "metadata": {},
   "outputs": [],
   "source": [
    "target = boston['target']"
   ]
  },
  {
   "cell_type": "code",
   "execution_count": 246,
   "id": "aa85433f",
   "metadata": {},
   "outputs": [],
   "source": [
    "X = pd.DataFrame(data, columns = feature_names)"
   ]
  },
  {
   "cell_type": "code",
   "execution_count": 247,
   "id": "9ccafc0d",
   "metadata": {},
   "outputs": [
    {
     "data": {
      "text/html": [
       "<div>\n",
       "<style scoped>\n",
       "    .dataframe tbody tr th:only-of-type {\n",
       "        vertical-align: middle;\n",
       "    }\n",
       "\n",
       "    .dataframe tbody tr th {\n",
       "        vertical-align: top;\n",
       "    }\n",
       "\n",
       "    .dataframe thead th {\n",
       "        text-align: right;\n",
       "    }\n",
       "</style>\n",
       "<table border=\"1\" class=\"dataframe\">\n",
       "  <thead>\n",
       "    <tr style=\"text-align: right;\">\n",
       "      <th></th>\n",
       "      <th>CRIM</th>\n",
       "      <th>ZN</th>\n",
       "      <th>INDUS</th>\n",
       "      <th>CHAS</th>\n",
       "      <th>NOX</th>\n",
       "      <th>RM</th>\n",
       "      <th>AGE</th>\n",
       "      <th>DIS</th>\n",
       "      <th>RAD</th>\n",
       "      <th>TAX</th>\n",
       "      <th>PTRATIO</th>\n",
       "      <th>B</th>\n",
       "      <th>LSTAT</th>\n",
       "    </tr>\n",
       "  </thead>\n",
       "  <tbody>\n",
       "    <tr>\n",
       "      <th>0</th>\n",
       "      <td>0.00632</td>\n",
       "      <td>18.0</td>\n",
       "      <td>2.31</td>\n",
       "      <td>0.0</td>\n",
       "      <td>0.538</td>\n",
       "      <td>6.575</td>\n",
       "      <td>65.2</td>\n",
       "      <td>4.0900</td>\n",
       "      <td>1.0</td>\n",
       "      <td>296.0</td>\n",
       "      <td>15.3</td>\n",
       "      <td>396.90</td>\n",
       "      <td>4.98</td>\n",
       "    </tr>\n",
       "    <tr>\n",
       "      <th>1</th>\n",
       "      <td>0.02731</td>\n",
       "      <td>0.0</td>\n",
       "      <td>7.07</td>\n",
       "      <td>0.0</td>\n",
       "      <td>0.469</td>\n",
       "      <td>6.421</td>\n",
       "      <td>78.9</td>\n",
       "      <td>4.9671</td>\n",
       "      <td>2.0</td>\n",
       "      <td>242.0</td>\n",
       "      <td>17.8</td>\n",
       "      <td>396.90</td>\n",
       "      <td>9.14</td>\n",
       "    </tr>\n",
       "    <tr>\n",
       "      <th>2</th>\n",
       "      <td>0.02729</td>\n",
       "      <td>0.0</td>\n",
       "      <td>7.07</td>\n",
       "      <td>0.0</td>\n",
       "      <td>0.469</td>\n",
       "      <td>7.185</td>\n",
       "      <td>61.1</td>\n",
       "      <td>4.9671</td>\n",
       "      <td>2.0</td>\n",
       "      <td>242.0</td>\n",
       "      <td>17.8</td>\n",
       "      <td>392.83</td>\n",
       "      <td>4.03</td>\n",
       "    </tr>\n",
       "    <tr>\n",
       "      <th>3</th>\n",
       "      <td>0.03237</td>\n",
       "      <td>0.0</td>\n",
       "      <td>2.18</td>\n",
       "      <td>0.0</td>\n",
       "      <td>0.458</td>\n",
       "      <td>6.998</td>\n",
       "      <td>45.8</td>\n",
       "      <td>6.0622</td>\n",
       "      <td>3.0</td>\n",
       "      <td>222.0</td>\n",
       "      <td>18.7</td>\n",
       "      <td>394.63</td>\n",
       "      <td>2.94</td>\n",
       "    </tr>\n",
       "    <tr>\n",
       "      <th>4</th>\n",
       "      <td>0.06905</td>\n",
       "      <td>0.0</td>\n",
       "      <td>2.18</td>\n",
       "      <td>0.0</td>\n",
       "      <td>0.458</td>\n",
       "      <td>7.147</td>\n",
       "      <td>54.2</td>\n",
       "      <td>6.0622</td>\n",
       "      <td>3.0</td>\n",
       "      <td>222.0</td>\n",
       "      <td>18.7</td>\n",
       "      <td>396.90</td>\n",
       "      <td>5.33</td>\n",
       "    </tr>\n",
       "  </tbody>\n",
       "</table>\n",
       "</div>"
      ],
      "text/plain": [
       "      CRIM    ZN  INDUS  CHAS    NOX     RM   AGE     DIS  RAD    TAX  \\\n",
       "0  0.00632  18.0   2.31   0.0  0.538  6.575  65.2  4.0900  1.0  296.0   \n",
       "1  0.02731   0.0   7.07   0.0  0.469  6.421  78.9  4.9671  2.0  242.0   \n",
       "2  0.02729   0.0   7.07   0.0  0.469  7.185  61.1  4.9671  2.0  242.0   \n",
       "3  0.03237   0.0   2.18   0.0  0.458  6.998  45.8  6.0622  3.0  222.0   \n",
       "4  0.06905   0.0   2.18   0.0  0.458  7.147  54.2  6.0622  3.0  222.0   \n",
       "\n",
       "   PTRATIO       B  LSTAT  \n",
       "0     15.3  396.90   4.98  \n",
       "1     17.8  396.90   9.14  \n",
       "2     17.8  392.83   4.03  \n",
       "3     18.7  394.63   2.94  \n",
       "4     18.7  396.90   5.33  "
      ]
     },
     "execution_count": 247,
     "metadata": {},
     "output_type": "execute_result"
    }
   ],
   "source": [
    "X.head()"
   ]
  },
  {
   "cell_type": "code",
   "execution_count": 248,
   "id": "4d973bf9",
   "metadata": {},
   "outputs": [
    {
     "name": "stdout",
     "output_type": "stream",
     "text": [
      "<class 'pandas.core.frame.DataFrame'>\n",
      "RangeIndex: 506 entries, 0 to 505\n",
      "Data columns (total 13 columns):\n",
      " #   Column   Non-Null Count  Dtype  \n",
      "---  ------   --------------  -----  \n",
      " 0   CRIM     506 non-null    float64\n",
      " 1   ZN       506 non-null    float64\n",
      " 2   INDUS    506 non-null    float64\n",
      " 3   CHAS     506 non-null    float64\n",
      " 4   NOX      506 non-null    float64\n",
      " 5   RM       506 non-null    float64\n",
      " 6   AGE      506 non-null    float64\n",
      " 7   DIS      506 non-null    float64\n",
      " 8   RAD      506 non-null    float64\n",
      " 9   TAX      506 non-null    float64\n",
      " 10  PTRATIO  506 non-null    float64\n",
      " 11  B        506 non-null    float64\n",
      " 12  LSTAT    506 non-null    float64\n",
      "dtypes: float64(13)\n",
      "memory usage: 51.5 KB\n"
     ]
    }
   ],
   "source": [
    "X.info()"
   ]
  },
  {
   "cell_type": "code",
   "execution_count": 249,
   "id": "08508c5f",
   "metadata": {},
   "outputs": [
    {
     "data": {
      "text/html": [
       "<div>\n",
       "<style scoped>\n",
       "    .dataframe tbody tr th:only-of-type {\n",
       "        vertical-align: middle;\n",
       "    }\n",
       "\n",
       "    .dataframe tbody tr th {\n",
       "        vertical-align: top;\n",
       "    }\n",
       "\n",
       "    .dataframe thead th {\n",
       "        text-align: right;\n",
       "    }\n",
       "</style>\n",
       "<table border=\"1\" class=\"dataframe\">\n",
       "  <thead>\n",
       "    <tr style=\"text-align: right;\">\n",
       "      <th></th>\n",
       "      <th>price</th>\n",
       "    </tr>\n",
       "  </thead>\n",
       "  <tbody>\n",
       "    <tr>\n",
       "      <th>0</th>\n",
       "      <td>24.0</td>\n",
       "    </tr>\n",
       "    <tr>\n",
       "      <th>1</th>\n",
       "      <td>21.6</td>\n",
       "    </tr>\n",
       "    <tr>\n",
       "      <th>2</th>\n",
       "      <td>34.7</td>\n",
       "    </tr>\n",
       "    <tr>\n",
       "      <th>3</th>\n",
       "      <td>33.4</td>\n",
       "    </tr>\n",
       "    <tr>\n",
       "      <th>4</th>\n",
       "      <td>36.2</td>\n",
       "    </tr>\n",
       "  </tbody>\n",
       "</table>\n",
       "</div>"
      ],
      "text/plain": [
       "   price\n",
       "0   24.0\n",
       "1   21.6\n",
       "2   34.7\n",
       "3   33.4\n",
       "4   36.2"
      ]
     },
     "execution_count": 249,
     "metadata": {},
     "output_type": "execute_result"
    }
   ],
   "source": [
    "y = pd.DataFrame(target, columns = ['price'])\n",
    "y.head()"
   ]
  },
  {
   "cell_type": "code",
   "execution_count": 250,
   "id": "2d8e7b83",
   "metadata": {},
   "outputs": [],
   "source": [
    "###Разбиваем на тренировочную и тестовую выборки\n",
    "from sklearn.model_selection import train_test_split "
   ]
  },
  {
   "cell_type": "code",
   "execution_count": 251,
   "id": "51922311",
   "metadata": {},
   "outputs": [],
   "source": [
    "train_test_split?"
   ]
  },
  {
   "cell_type": "code",
   "execution_count": 323,
   "id": "54e427de",
   "metadata": {},
   "outputs": [],
   "source": [
    "X_train, X_test, y_train, y_test = train_test_split(X, y, test_size = 0.3, random_state = 42)"
   ]
  },
  {
   "cell_type": "code",
   "execution_count": 253,
   "id": "9ca31fb4",
   "metadata": {},
   "outputs": [],
   "source": [
    "###Создаем модель линейной регрессии\n",
    "from sklearn.linear_model import LinearRegression"
   ]
  },
  {
   "cell_type": "markdown",
   "id": "98bd599b",
   "metadata": {},
   "source": [
    "##### Подгружаем модель в переменную lr"
   ]
  },
  {
   "cell_type": "code",
   "execution_count": 254,
   "id": "5b501e01",
   "metadata": {},
   "outputs": [],
   "source": [
    "lr = LinearRegression()"
   ]
  },
  {
   "cell_type": "markdown",
   "id": "a1357d2c",
   "metadata": {},
   "source": [
    "##### Обучаем(оцениваем коэффициенты методом МНК) модель линейной регрессии при помощи  "
   ]
  },
  {
   "cell_type": "code",
   "execution_count": 255,
   "id": "f7437a16",
   "metadata": {},
   "outputs": [
    {
     "data": {
      "text/plain": [
       "LinearRegression()"
      ]
     },
     "execution_count": 255,
     "metadata": {},
     "output_type": "execute_result"
    }
   ],
   "source": [
    "lr.fit(X_train, y_train)"
   ]
  },
  {
   "cell_type": "code",
   "execution_count": 256,
   "id": "61a7466e",
   "metadata": {},
   "outputs": [],
   "source": [
    "lr?"
   ]
  },
  {
   "cell_type": "markdown",
   "id": "0b8b1387",
   "metadata": {},
   "source": [
    "##### Получаем предсказанные y на объектах X_test"
   ]
  },
  {
   "cell_type": "code",
   "execution_count": 257,
   "id": "0f74c3df",
   "metadata": {},
   "outputs": [],
   "source": [
    "y_pred = lr.predict(X_test)"
   ]
  },
  {
   "cell_type": "code",
   "execution_count": 258,
   "id": "b0a2dadd",
   "metadata": {},
   "outputs": [],
   "source": [
    "from sklearn.metrics import r2_score"
   ]
  },
  {
   "cell_type": "code",
   "execution_count": 259,
   "id": "e39740f0",
   "metadata": {},
   "outputs": [],
   "source": [
    "r2_score?"
   ]
  },
  {
   "cell_type": "markdown",
   "id": "7183e66d",
   "metadata": {},
   "source": [
    "##### Посчитаем r2_score"
   ]
  },
  {
   "cell_type": "code",
   "execution_count": 260,
   "id": "3929570f",
   "metadata": {},
   "outputs": [
    {
     "data": {
      "text/plain": [
       "0.7112260057484973"
      ]
     },
     "execution_count": 260,
     "metadata": {},
     "output_type": "execute_result"
    }
   ],
   "source": [
    "R2 = r2_score(y_test,y_pred)\n",
    "R2"
   ]
  },
  {
   "cell_type": "code",
   "execution_count": 261,
   "id": "9662001a",
   "metadata": {},
   "outputs": [],
   "source": [
    "check_test = pd.DataFrame({\n",
    "    \"y_test\": y_test['price'],\n",
    "    \"y_pred\": y_pred.flatten()\n",
    "})"
   ]
  },
  {
   "cell_type": "code",
   "execution_count": 262,
   "id": "526398ed",
   "metadata": {},
   "outputs": [],
   "source": [
    "check_test['error'] = check_test['y_pred'] - check_test['y_test']"
   ]
  },
  {
   "cell_type": "markdown",
   "id": "0c397cf4",
   "metadata": {},
   "source": [
    "##### Расчитаем mean squared error(mse)"
   ]
  },
  {
   "cell_type": "code",
   "execution_count": 263,
   "id": "a22aa4ff",
   "metadata": {},
   "outputs": [
    {
     "data": {
      "text/plain": [
       "21.517444231176913"
      ]
     },
     "execution_count": 263,
     "metadata": {},
     "output_type": "execute_result"
    }
   ],
   "source": [
    "mse = (check_test['error']**2).mean()\n",
    "pd.to_numeric(mse)"
   ]
  },
  {
   "cell_type": "code",
   "execution_count": 264,
   "id": "5023a5e5",
   "metadata": {},
   "outputs": [],
   "source": [
    "from sklearn.metrics import mean_squared_error\n"
   ]
  },
  {
   "cell_type": "code",
   "execution_count": 265,
   "id": "5852791c",
   "metadata": {},
   "outputs": [
    {
     "data": {
      "text/plain": [
       "21.51744423117691"
      ]
     },
     "execution_count": 265,
     "metadata": {},
     "output_type": "execute_result"
    }
   ],
   "source": [
    "mean_squared_error(check_test['y_test'], check_test['y_pred'])"
   ]
  },
  {
   "cell_type": "markdown",
   "id": "75cb1197",
   "metadata": {},
   "source": [
    "##### Расчитаем mean absolute error(mae)"
   ]
  },
  {
   "cell_type": "code",
   "execution_count": 266,
   "id": "948cd551",
   "metadata": {},
   "outputs": [
    {
     "data": {
      "text/plain": [
       "3.162709871457362"
      ]
     },
     "execution_count": 266,
     "metadata": {},
     "output_type": "execute_result"
    }
   ],
   "source": [
    "(np.abs(check_test['error'])).mean()"
   ]
  },
  {
   "cell_type": "code",
   "execution_count": 267,
   "id": "611c25b9",
   "metadata": {},
   "outputs": [],
   "source": [
    "from sklearn.metrics import mean_absolute_error"
   ]
  },
  {
   "cell_type": "code",
   "execution_count": 268,
   "id": "7f1206b9",
   "metadata": {},
   "outputs": [
    {
     "data": {
      "text/plain": [
       "3.1627098714573627"
      ]
     },
     "execution_count": 268,
     "metadata": {},
     "output_type": "execute_result"
    }
   ],
   "source": [
    "mean_absolute_error(check_test['y_test'], check_test['y_pred'])"
   ]
  },
  {
   "cell_type": "code",
   "execution_count": 269,
   "id": "50024b6f",
   "metadata": {},
   "outputs": [
    {
     "data": {
      "text/plain": [
       "pandas.core.indexes.base.Index"
      ]
     },
     "execution_count": 269,
     "metadata": {},
     "output_type": "execute_result"
    }
   ],
   "source": [
    "type(X_describe.columns)"
   ]
  },
  {
   "cell_type": "code",
   "execution_count": 270,
   "id": "8e0b70cc",
   "metadata": {},
   "outputs": [
    {
     "data": {
      "text/html": [
       "<div>\n",
       "<style scoped>\n",
       "    .dataframe tbody tr th:only-of-type {\n",
       "        vertical-align: middle;\n",
       "    }\n",
       "\n",
       "    .dataframe tbody tr th {\n",
       "        vertical-align: top;\n",
       "    }\n",
       "\n",
       "    .dataframe thead th {\n",
       "        text-align: right;\n",
       "    }\n",
       "</style>\n",
       "<table border=\"1\" class=\"dataframe\">\n",
       "  <thead>\n",
       "    <tr style=\"text-align: right;\">\n",
       "      <th></th>\n",
       "      <th>CRIM</th>\n",
       "      <th>ZN</th>\n",
       "      <th>INDUS</th>\n",
       "      <th>CHAS</th>\n",
       "      <th>NOX</th>\n",
       "      <th>RM</th>\n",
       "      <th>AGE</th>\n",
       "      <th>DIS</th>\n",
       "      <th>RAD</th>\n",
       "      <th>TAX</th>\n",
       "      <th>PTRATIO</th>\n",
       "      <th>B</th>\n",
       "      <th>LSTAT</th>\n",
       "    </tr>\n",
       "  </thead>\n",
       "  <tbody>\n",
       "    <tr>\n",
       "      <th>count</th>\n",
       "      <td>354.000000</td>\n",
       "      <td>354.000000</td>\n",
       "      <td>354.000000</td>\n",
       "      <td>354.000000</td>\n",
       "      <td>354.000000</td>\n",
       "      <td>354.000000</td>\n",
       "      <td>354.000000</td>\n",
       "      <td>354.000000</td>\n",
       "      <td>354.000000</td>\n",
       "      <td>354.000000</td>\n",
       "      <td>354.000000</td>\n",
       "      <td>354.000000</td>\n",
       "      <td>354.000000</td>\n",
       "    </tr>\n",
       "    <tr>\n",
       "      <th>mean</th>\n",
       "      <td>3.469887</td>\n",
       "      <td>11.403955</td>\n",
       "      <td>11.133051</td>\n",
       "      <td>0.073446</td>\n",
       "      <td>0.557259</td>\n",
       "      <td>6.325672</td>\n",
       "      <td>68.799718</td>\n",
       "      <td>3.765874</td>\n",
       "      <td>9.437853</td>\n",
       "      <td>407.042373</td>\n",
       "      <td>18.277966</td>\n",
       "      <td>359.701808</td>\n",
       "      <td>12.421130</td>\n",
       "    </tr>\n",
       "    <tr>\n",
       "      <th>std</th>\n",
       "      <td>8.315831</td>\n",
       "      <td>22.608457</td>\n",
       "      <td>6.938651</td>\n",
       "      <td>0.261237</td>\n",
       "      <td>0.116792</td>\n",
       "      <td>0.719211</td>\n",
       "      <td>27.665360</td>\n",
       "      <td>2.126032</td>\n",
       "      <td>8.639971</td>\n",
       "      <td>166.522237</td>\n",
       "      <td>2.256792</td>\n",
       "      <td>86.924779</td>\n",
       "      <td>7.112402</td>\n",
       "    </tr>\n",
       "    <tr>\n",
       "      <th>min</th>\n",
       "      <td>0.009060</td>\n",
       "      <td>0.000000</td>\n",
       "      <td>1.210000</td>\n",
       "      <td>0.000000</td>\n",
       "      <td>0.385000</td>\n",
       "      <td>3.863000</td>\n",
       "      <td>2.900000</td>\n",
       "      <td>1.129600</td>\n",
       "      <td>1.000000</td>\n",
       "      <td>187.000000</td>\n",
       "      <td>12.600000</td>\n",
       "      <td>0.320000</td>\n",
       "      <td>1.730000</td>\n",
       "    </tr>\n",
       "    <tr>\n",
       "      <th>25%</th>\n",
       "      <td>0.082320</td>\n",
       "      <td>0.000000</td>\n",
       "      <td>5.130000</td>\n",
       "      <td>0.000000</td>\n",
       "      <td>0.450000</td>\n",
       "      <td>5.889500</td>\n",
       "      <td>46.025000</td>\n",
       "      <td>2.073700</td>\n",
       "      <td>4.000000</td>\n",
       "      <td>279.000000</td>\n",
       "      <td>16.650000</td>\n",
       "      <td>376.782500</td>\n",
       "      <td>6.862500</td>\n",
       "    </tr>\n",
       "    <tr>\n",
       "      <th>50%</th>\n",
       "      <td>0.256510</td>\n",
       "      <td>0.000000</td>\n",
       "      <td>9.690000</td>\n",
       "      <td>0.000000</td>\n",
       "      <td>0.538000</td>\n",
       "      <td>6.227500</td>\n",
       "      <td>77.350000</td>\n",
       "      <td>3.107300</td>\n",
       "      <td>5.000000</td>\n",
       "      <td>330.000000</td>\n",
       "      <td>18.600000</td>\n",
       "      <td>391.600000</td>\n",
       "      <td>10.925000</td>\n",
       "    </tr>\n",
       "    <tr>\n",
       "      <th>75%</th>\n",
       "      <td>3.281688</td>\n",
       "      <td>20.000000</td>\n",
       "      <td>18.100000</td>\n",
       "      <td>0.000000</td>\n",
       "      <td>0.631000</td>\n",
       "      <td>6.681750</td>\n",
       "      <td>93.475000</td>\n",
       "      <td>5.400700</td>\n",
       "      <td>24.000000</td>\n",
       "      <td>666.000000</td>\n",
       "      <td>20.200000</td>\n",
       "      <td>396.172500</td>\n",
       "      <td>16.225000</td>\n",
       "    </tr>\n",
       "    <tr>\n",
       "      <th>max</th>\n",
       "      <td>88.976200</td>\n",
       "      <td>95.000000</td>\n",
       "      <td>27.740000</td>\n",
       "      <td>1.000000</td>\n",
       "      <td>0.871000</td>\n",
       "      <td>8.780000</td>\n",
       "      <td>100.000000</td>\n",
       "      <td>12.126500</td>\n",
       "      <td>24.000000</td>\n",
       "      <td>711.000000</td>\n",
       "      <td>22.000000</td>\n",
       "      <td>396.900000</td>\n",
       "      <td>37.970000</td>\n",
       "    </tr>\n",
       "  </tbody>\n",
       "</table>\n",
       "</div>"
      ],
      "text/plain": [
       "             CRIM          ZN       INDUS        CHAS         NOX          RM  \\\n",
       "count  354.000000  354.000000  354.000000  354.000000  354.000000  354.000000   \n",
       "mean     3.469887   11.403955   11.133051    0.073446    0.557259    6.325672   \n",
       "std      8.315831   22.608457    6.938651    0.261237    0.116792    0.719211   \n",
       "min      0.009060    0.000000    1.210000    0.000000    0.385000    3.863000   \n",
       "25%      0.082320    0.000000    5.130000    0.000000    0.450000    5.889500   \n",
       "50%      0.256510    0.000000    9.690000    0.000000    0.538000    6.227500   \n",
       "75%      3.281688   20.000000   18.100000    0.000000    0.631000    6.681750   \n",
       "max     88.976200   95.000000   27.740000    1.000000    0.871000    8.780000   \n",
       "\n",
       "              AGE         DIS         RAD         TAX     PTRATIO           B  \\\n",
       "count  354.000000  354.000000  354.000000  354.000000  354.000000  354.000000   \n",
       "mean    68.799718    3.765874    9.437853  407.042373   18.277966  359.701808   \n",
       "std     27.665360    2.126032    8.639971  166.522237    2.256792   86.924779   \n",
       "min      2.900000    1.129600    1.000000  187.000000   12.600000    0.320000   \n",
       "25%     46.025000    2.073700    4.000000  279.000000   16.650000  376.782500   \n",
       "50%     77.350000    3.107300    5.000000  330.000000   18.600000  391.600000   \n",
       "75%     93.475000    5.400700   24.000000  666.000000   20.200000  396.172500   \n",
       "max    100.000000   12.126500   24.000000  711.000000   22.000000  396.900000   \n",
       "\n",
       "            LSTAT  \n",
       "count  354.000000  \n",
       "mean    12.421130  \n",
       "std      7.112402  \n",
       "min      1.730000  \n",
       "25%      6.862500  \n",
       "50%     10.925000  \n",
       "75%     16.225000  \n",
       "max     37.970000  "
      ]
     },
     "execution_count": 270,
     "metadata": {},
     "output_type": "execute_result"
    }
   ],
   "source": [
    "X_describe"
   ]
  },
  {
   "cell_type": "code",
   "execution_count": 271,
   "id": "473370c8",
   "metadata": {},
   "outputs": [],
   "source": [
    "X_describe = X_train.describe()\n",
    "lr_coef = pd.DataFrame(lr.coef_.flatten(), index = X_describe.columns, columns = ['lr_coef'])"
   ]
  },
  {
   "cell_type": "code",
   "execution_count": 272,
   "id": "4560098d",
   "metadata": {},
   "outputs": [
    {
     "data": {
      "text/plain": [
       "(8, 13)"
      ]
     },
     "execution_count": 272,
     "metadata": {},
     "output_type": "execute_result"
    }
   ],
   "source": [
    "X_describe.shape\n",
    "pd.Series(all(lr_coef.T))\n",
    "lr_coef = lr_coef.T\n",
    "lr_coef.shape\n",
    "X_describe.shape"
   ]
  },
  {
   "cell_type": "code",
   "execution_count": 273,
   "id": "0532daa0",
   "metadata": {
    "scrolled": true
   },
   "outputs": [
    {
     "data": {
      "text/html": [
       "<div>\n",
       "<style scoped>\n",
       "    .dataframe tbody tr th:only-of-type {\n",
       "        vertical-align: middle;\n",
       "    }\n",
       "\n",
       "    .dataframe tbody tr th {\n",
       "        vertical-align: top;\n",
       "    }\n",
       "\n",
       "    .dataframe thead th {\n",
       "        text-align: right;\n",
       "    }\n",
       "</style>\n",
       "<table border=\"1\" class=\"dataframe\">\n",
       "  <thead>\n",
       "    <tr style=\"text-align: right;\">\n",
       "      <th></th>\n",
       "      <th>CRIM</th>\n",
       "      <th>ZN</th>\n",
       "      <th>INDUS</th>\n",
       "      <th>CHAS</th>\n",
       "      <th>NOX</th>\n",
       "      <th>RM</th>\n",
       "      <th>AGE</th>\n",
       "      <th>DIS</th>\n",
       "      <th>RAD</th>\n",
       "      <th>TAX</th>\n",
       "      <th>PTRATIO</th>\n",
       "      <th>B</th>\n",
       "      <th>LSTAT</th>\n",
       "    </tr>\n",
       "  </thead>\n",
       "  <tbody>\n",
       "    <tr>\n",
       "      <th>lr_coef</th>\n",
       "      <td>-0.133470</td>\n",
       "      <td>0.035809</td>\n",
       "      <td>0.049523</td>\n",
       "      <td>3.119835</td>\n",
       "      <td>-15.417061</td>\n",
       "      <td>4.057199</td>\n",
       "      <td>-0.010821</td>\n",
       "      <td>-1.385998</td>\n",
       "      <td>0.242727</td>\n",
       "      <td>-0.008702</td>\n",
       "      <td>-0.910685</td>\n",
       "      <td>0.011794</td>\n",
       "      <td>-0.547113</td>\n",
       "    </tr>\n",
       "    <tr>\n",
       "      <th>count</th>\n",
       "      <td>354.000000</td>\n",
       "      <td>354.000000</td>\n",
       "      <td>354.000000</td>\n",
       "      <td>354.000000</td>\n",
       "      <td>354.000000</td>\n",
       "      <td>354.000000</td>\n",
       "      <td>354.000000</td>\n",
       "      <td>354.000000</td>\n",
       "      <td>354.000000</td>\n",
       "      <td>354.000000</td>\n",
       "      <td>354.000000</td>\n",
       "      <td>354.000000</td>\n",
       "      <td>354.000000</td>\n",
       "    </tr>\n",
       "    <tr>\n",
       "      <th>mean</th>\n",
       "      <td>3.469887</td>\n",
       "      <td>11.403955</td>\n",
       "      <td>11.133051</td>\n",
       "      <td>0.073446</td>\n",
       "      <td>0.557259</td>\n",
       "      <td>6.325672</td>\n",
       "      <td>68.799718</td>\n",
       "      <td>3.765874</td>\n",
       "      <td>9.437853</td>\n",
       "      <td>407.042373</td>\n",
       "      <td>18.277966</td>\n",
       "      <td>359.701808</td>\n",
       "      <td>12.421130</td>\n",
       "    </tr>\n",
       "    <tr>\n",
       "      <th>std</th>\n",
       "      <td>8.315831</td>\n",
       "      <td>22.608457</td>\n",
       "      <td>6.938651</td>\n",
       "      <td>0.261237</td>\n",
       "      <td>0.116792</td>\n",
       "      <td>0.719211</td>\n",
       "      <td>27.665360</td>\n",
       "      <td>2.126032</td>\n",
       "      <td>8.639971</td>\n",
       "      <td>166.522237</td>\n",
       "      <td>2.256792</td>\n",
       "      <td>86.924779</td>\n",
       "      <td>7.112402</td>\n",
       "    </tr>\n",
       "    <tr>\n",
       "      <th>min</th>\n",
       "      <td>0.009060</td>\n",
       "      <td>0.000000</td>\n",
       "      <td>1.210000</td>\n",
       "      <td>0.000000</td>\n",
       "      <td>0.385000</td>\n",
       "      <td>3.863000</td>\n",
       "      <td>2.900000</td>\n",
       "      <td>1.129600</td>\n",
       "      <td>1.000000</td>\n",
       "      <td>187.000000</td>\n",
       "      <td>12.600000</td>\n",
       "      <td>0.320000</td>\n",
       "      <td>1.730000</td>\n",
       "    </tr>\n",
       "    <tr>\n",
       "      <th>25%</th>\n",
       "      <td>0.082320</td>\n",
       "      <td>0.000000</td>\n",
       "      <td>5.130000</td>\n",
       "      <td>0.000000</td>\n",
       "      <td>0.450000</td>\n",
       "      <td>5.889500</td>\n",
       "      <td>46.025000</td>\n",
       "      <td>2.073700</td>\n",
       "      <td>4.000000</td>\n",
       "      <td>279.000000</td>\n",
       "      <td>16.650000</td>\n",
       "      <td>376.782500</td>\n",
       "      <td>6.862500</td>\n",
       "    </tr>\n",
       "    <tr>\n",
       "      <th>50%</th>\n",
       "      <td>0.256510</td>\n",
       "      <td>0.000000</td>\n",
       "      <td>9.690000</td>\n",
       "      <td>0.000000</td>\n",
       "      <td>0.538000</td>\n",
       "      <td>6.227500</td>\n",
       "      <td>77.350000</td>\n",
       "      <td>3.107300</td>\n",
       "      <td>5.000000</td>\n",
       "      <td>330.000000</td>\n",
       "      <td>18.600000</td>\n",
       "      <td>391.600000</td>\n",
       "      <td>10.925000</td>\n",
       "    </tr>\n",
       "    <tr>\n",
       "      <th>75%</th>\n",
       "      <td>3.281688</td>\n",
       "      <td>20.000000</td>\n",
       "      <td>18.100000</td>\n",
       "      <td>0.000000</td>\n",
       "      <td>0.631000</td>\n",
       "      <td>6.681750</td>\n",
       "      <td>93.475000</td>\n",
       "      <td>5.400700</td>\n",
       "      <td>24.000000</td>\n",
       "      <td>666.000000</td>\n",
       "      <td>20.200000</td>\n",
       "      <td>396.172500</td>\n",
       "      <td>16.225000</td>\n",
       "    </tr>\n",
       "    <tr>\n",
       "      <th>max</th>\n",
       "      <td>88.976200</td>\n",
       "      <td>95.000000</td>\n",
       "      <td>27.740000</td>\n",
       "      <td>1.000000</td>\n",
       "      <td>0.871000</td>\n",
       "      <td>8.780000</td>\n",
       "      <td>100.000000</td>\n",
       "      <td>12.126500</td>\n",
       "      <td>24.000000</td>\n",
       "      <td>711.000000</td>\n",
       "      <td>22.000000</td>\n",
       "      <td>396.900000</td>\n",
       "      <td>37.970000</td>\n",
       "    </tr>\n",
       "  </tbody>\n",
       "</table>\n",
       "</div>"
      ],
      "text/plain": [
       "               CRIM          ZN       INDUS        CHAS         NOX  \\\n",
       "lr_coef   -0.133470    0.035809    0.049523    3.119835  -15.417061   \n",
       "count    354.000000  354.000000  354.000000  354.000000  354.000000   \n",
       "mean       3.469887   11.403955   11.133051    0.073446    0.557259   \n",
       "std        8.315831   22.608457    6.938651    0.261237    0.116792   \n",
       "min        0.009060    0.000000    1.210000    0.000000    0.385000   \n",
       "25%        0.082320    0.000000    5.130000    0.000000    0.450000   \n",
       "50%        0.256510    0.000000    9.690000    0.000000    0.538000   \n",
       "75%        3.281688   20.000000   18.100000    0.000000    0.631000   \n",
       "max       88.976200   95.000000   27.740000    1.000000    0.871000   \n",
       "\n",
       "                 RM         AGE         DIS         RAD         TAX  \\\n",
       "lr_coef    4.057199   -0.010821   -1.385998    0.242727   -0.008702   \n",
       "count    354.000000  354.000000  354.000000  354.000000  354.000000   \n",
       "mean       6.325672   68.799718    3.765874    9.437853  407.042373   \n",
       "std        0.719211   27.665360    2.126032    8.639971  166.522237   \n",
       "min        3.863000    2.900000    1.129600    1.000000  187.000000   \n",
       "25%        5.889500   46.025000    2.073700    4.000000  279.000000   \n",
       "50%        6.227500   77.350000    3.107300    5.000000  330.000000   \n",
       "75%        6.681750   93.475000    5.400700   24.000000  666.000000   \n",
       "max        8.780000  100.000000   12.126500   24.000000  711.000000   \n",
       "\n",
       "            PTRATIO           B       LSTAT  \n",
       "lr_coef   -0.910685    0.011794   -0.547113  \n",
       "count    354.000000  354.000000  354.000000  \n",
       "mean      18.277966  359.701808   12.421130  \n",
       "std        2.256792   86.924779    7.112402  \n",
       "min       12.600000    0.320000    1.730000  \n",
       "25%       16.650000  376.782500    6.862500  \n",
       "50%       18.600000  391.600000   10.925000  \n",
       "75%       20.200000  396.172500   16.225000  \n",
       "max       22.000000  396.900000   37.970000  "
      ]
     },
     "execution_count": 273,
     "metadata": {},
     "output_type": "execute_result"
    }
   ],
   "source": [
    "pd.concat([lr_coef, X_describe]) "
   ]
  },
  {
   "cell_type": "markdown",
   "id": "891e0fdd",
   "metadata": {},
   "source": [
    "### Задание 2"
   ]
  },
  {
   "cell_type": "code",
   "execution_count": 324,
   "id": "5efd0ec2",
   "metadata": {},
   "outputs": [],
   "source": [
    "from sklearn.ensemble import RandomForestRegressor\n",
    "from sklearn.model_selection import GridSearchCV"
   ]
  },
  {
   "cell_type": "code",
   "execution_count": 331,
   "id": "dac20a84",
   "metadata": {},
   "outputs": [],
   "source": [
    "reg = RandomForestRegressor(\n",
    "                  n_estimators = 1000,\n",
    "                  max_depth = 12,\n",
    "                  random_state = 42)"
   ]
  },
  {
   "cell_type": "code",
   "execution_count": 332,
   "id": "ea7a1056",
   "metadata": {},
   "outputs": [
    {
     "data": {
      "text/html": [
       "<div>\n",
       "<style scoped>\n",
       "    .dataframe tbody tr th:only-of-type {\n",
       "        vertical-align: middle;\n",
       "    }\n",
       "\n",
       "    .dataframe tbody tr th {\n",
       "        vertical-align: top;\n",
       "    }\n",
       "\n",
       "    .dataframe thead th {\n",
       "        text-align: right;\n",
       "    }\n",
       "</style>\n",
       "<table border=\"1\" class=\"dataframe\">\n",
       "  <thead>\n",
       "    <tr style=\"text-align: right;\">\n",
       "      <th></th>\n",
       "      <th>price</th>\n",
       "    </tr>\n",
       "  </thead>\n",
       "  <tbody>\n",
       "    <tr>\n",
       "      <th>5</th>\n",
       "      <td>28.7</td>\n",
       "    </tr>\n",
       "    <tr>\n",
       "      <th>116</th>\n",
       "      <td>21.2</td>\n",
       "    </tr>\n",
       "    <tr>\n",
       "      <th>45</th>\n",
       "      <td>19.3</td>\n",
       "    </tr>\n",
       "    <tr>\n",
       "      <th>16</th>\n",
       "      <td>23.1</td>\n",
       "    </tr>\n",
       "    <tr>\n",
       "      <th>468</th>\n",
       "      <td>19.1</td>\n",
       "    </tr>\n",
       "    <tr>\n",
       "      <th>...</th>\n",
       "      <td>...</td>\n",
       "    </tr>\n",
       "    <tr>\n",
       "      <th>106</th>\n",
       "      <td>19.5</td>\n",
       "    </tr>\n",
       "    <tr>\n",
       "      <th>270</th>\n",
       "      <td>21.1</td>\n",
       "    </tr>\n",
       "    <tr>\n",
       "      <th>348</th>\n",
       "      <td>24.5</td>\n",
       "    </tr>\n",
       "    <tr>\n",
       "      <th>435</th>\n",
       "      <td>13.4</td>\n",
       "    </tr>\n",
       "    <tr>\n",
       "      <th>102</th>\n",
       "      <td>18.6</td>\n",
       "    </tr>\n",
       "  </tbody>\n",
       "</table>\n",
       "<p>354 rows × 1 columns</p>\n",
       "</div>"
      ],
      "text/plain": [
       "     price\n",
       "5     28.7\n",
       "116   21.2\n",
       "45    19.3\n",
       "16    23.1\n",
       "468   19.1\n",
       "..     ...\n",
       "106   19.5\n",
       "270   21.1\n",
       "348   24.5\n",
       "435   13.4\n",
       "102   18.6\n",
       "\n",
       "[354 rows x 1 columns]"
      ]
     },
     "execution_count": 332,
     "metadata": {},
     "output_type": "execute_result"
    }
   ],
   "source": [
    "y_train"
   ]
  },
  {
   "cell_type": "code",
   "execution_count": 334,
   "id": "88edd02c",
   "metadata": {},
   "outputs": [
    {
     "data": {
      "text/plain": [
       "RandomForestRegressor(max_depth=12, n_estimators=1000, random_state=42)"
      ]
     },
     "execution_count": 334,
     "metadata": {},
     "output_type": "execute_result"
    }
   ],
   "source": [
    "reg.fit(X_train, y_train.values[:,0])"
   ]
  },
  {
   "cell_type": "code",
   "execution_count": 335,
   "id": "09f6ab5f",
   "metadata": {},
   "outputs": [],
   "source": [
    "y_pred = reg.predict(X_test)"
   ]
  },
  {
   "cell_type": "code",
   "execution_count": 336,
   "id": "26d2eef3",
   "metadata": {},
   "outputs": [
    {
     "data": {
      "text/plain": [
       "0.87472606157312"
      ]
     },
     "execution_count": 336,
     "metadata": {},
     "output_type": "execute_result"
    }
   ],
   "source": [
    "R2_RF = r2_score(y_test, y_pred)\n",
    "R2_RF"
   ]
  },
  {
   "cell_type": "markdown",
   "id": "259ef1cc",
   "metadata": {},
   "source": [
    "##### R2_RF > R2 Следовательно случайный лес в данном примере работает лучше обычной линейной регрессии. \n"
   ]
  },
  {
   "cell_type": "markdown",
   "id": "8ae397e0",
   "metadata": {},
   "source": [
    "### Задание 3*"
   ]
  },
  {
   "cell_type": "code",
   "execution_count": 306,
   "id": "48ab91b0",
   "metadata": {},
   "outputs": [],
   "source": [
    "from sklearn.ensemble import RandomForestRegressor as rsr\n",
    "from matplotlib import pyplot as plt\n",
    "import seaborn as sns"
   ]
  },
  {
   "cell_type": "code",
   "execution_count": 304,
   "id": "8755f1cc",
   "metadata": {},
   "outputs": [],
   "source": [
    "clf?"
   ]
  },
  {
   "cell_type": "code",
   "execution_count": 303,
   "id": "36aeb86e",
   "metadata": {},
   "outputs": [],
   "source": [
    "rsr.feature_importances_?"
   ]
  },
  {
   "cell_type": "markdown",
   "id": "4bc2292f",
   "metadata": {},
   "source": [
    "Если нам интересно узнать о том, какие признаки являются самыми важными для RF-модели, мы можем визуализировать и квантифицировать показатели важности признаков, обратившись к атрибуту feature_importances_:\n"
   ]
  },
  {
   "cell_type": "code",
   "execution_count": 311,
   "id": "86315419",
   "metadata": {},
   "outputs": [
    {
     "data": {
      "text/plain": [
       "Index(['CRIM', 'ZN', 'INDUS', 'CHAS', 'NOX', 'RM', 'AGE', 'DIS', 'RAD', 'TAX',\n",
       "       'PTRATIO', 'B', 'LSTAT'],\n",
       "      dtype='object')"
      ]
     },
     "execution_count": 311,
     "metadata": {},
     "output_type": "execute_result"
    }
   ],
   "source": [
    "clf.feature_importances_\n",
    "X.columns"
   ]
  },
  {
   "cell_type": "code",
   "execution_count": 319,
   "id": "29acc201",
   "metadata": {},
   "outputs": [
    {
     "data": {
      "image/png": "[encoded data removed]",
      "text/plain": [
       "<Figure size 2160x1080 with 1 Axes>"
      ]
     },
     "metadata": {},
     "output_type": "display_data"
    }
   ],
   "source": [
    "feats = {}\n",
    "for feature, importance in zip(X.columns, clf.feature_importances_):\n",
    "    feats[feature] = importance\n",
    "importances = pd.DataFrame.from_dict(feats, orient='index').rename(columns={0: 'Gini-Importance'})\n",
    "importances = importances.sort_values(by='Gini-Importance', ascending=False)\n",
    "importances = importances.reset_index()\n",
    "importances = importances.rename(columns={'index': 'Features'})\n",
    "\n",
    "fig, ax = plt.subplots()\n",
    "fig.set_size_inches(30,15)\n",
    "sns.barplot(x=importances['Gini-Importance'], y=importances['Features'], data=importances, color='skyblue')\n",
    "plt.xlabel('Importance', fontsize=25, weight = 'bold')\n",
    "plt.ylabel('Features', fontsize=25, weight = 'bold')\n",
    "plt.title('Feature Importance', fontsize=25, weight = 'bold')\n",
    "\n",
    "plt.show()"
   ]
  },
  {
   "cell_type": "markdown",
   "id": "8abad9b9",
   "metadata": {},
   "source": [
    "#### Очеведно что наиболее важными признаками являются LSTAT и RM"
   ]
  },
  {
   "cell_type": "markdown",
   "id": "d676219f",
   "metadata": {},
   "source": [
    "### *Задание 4\n",
    "## Не успел :("
   ]
  },
  {
   "cell_type": "code",
   "execution_count": null,
   "id": "3df08444",
   "metadata": {},
   "outputs": [],
   "source": []
  }
 ],
 "metadata": {
  "kernelspec": {
   "display_name": "Python 3",
   "language": "python",
   "name": "python3"
  },
  "language_info": {
   "codemirror_mode": {
    "name": "ipython",
    "version": 3
   },
   "file_extension": ".py",
   "mimetype": "text/x-python",
   "name": "python",
   "nbconvert_exporter": "python",
   "pygments_lexer": "ipython3",
   "version": "3.8.8"
  }
 },
 "nbformat": 4,
 "nbformat_minor": 5
}
